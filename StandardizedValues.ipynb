{
  "nbformat": 4,
  "nbformat_minor": 0,
  "metadata": {
    "colab": {
      "provenance": [],
      "authorship_tag": "ABX9TyPJql0HPl9xvTS3Vx9MG9mx",
      "include_colab_link": true
    },
    "kernelspec": {
      "name": "python3",
      "display_name": "Python 3"
    },
    "language_info": {
      "name": "python"
    }
  },
  "cells": [
    {
      "cell_type": "markdown",
      "metadata": {
        "id": "view-in-github",
        "colab_type": "text"
      },
      "source": [
        "<a href=\"https://colab.research.google.com/github/CLizou/tests/blob/ML/StandardizedValues.ipynb\" target=\"_parent\"><img src=\"https://colab.research.google.com/assets/colab-badge.svg\" alt=\"Open In Colab\"/></a>"
      ]
    },
    {
      "cell_type": "code",
      "execution_count": 23,
      "metadata": {
        "colab": {
          "base_uri": "https://localhost:8080/"
        },
        "id": "amxOS6SDAJ25",
        "outputId": "4ecd4c4b-10bf-414c-8723-d7ef34fd04ee"
      },
      "outputs": [
        {
          "output_type": "stream",
          "name": "stdout",
          "text": [
            "        vehicles      PWT  PowerkW  TorqueNm  BatteryNomCapkWh\n",
            "0     Peugeot108  thermal       53        93               0.0\n",
            "1    Peugeote208      BEV      100       260              51.0\n",
            "2      CitroenC1  thermal       53        93               0.0\n",
            "3      CitroenC2  thermal       51       150               0.0\n",
            "4     eCitroenC3      BEV       42       143              29.2\n",
            "5       Fiat500e      BEV       87       220              42.0\n",
            "6    Abarth 500e      BEV      132       250              42.0\n",
            "7         eCorsa      BEV      100       260              50.0\n",
            "8   JeepEAvenger      BEV      115       260              54.0\n",
            "9  LanciaYpsilon  thermal       55       126               0.0\n",
            "\n",
            "       vehicles  PWT  PowerkW  TorqueNm  BatteryNomCapkWh\n",
            "1   Peugeote208  BEV      100       260              51.0\n",
            "4    eCitroenC3  BEV       42       143              29.2\n",
            "5      Fiat500e  BEV       87       220              42.0\n",
            "6   Abarth 500e  BEV      132       250              42.0\n",
            "7        eCorsa  BEV      100       260              50.0\n",
            "8  JeepEAvenger  BEV      115       260              54.0\n",
            "\n",
            "Mean BEV power in kW: 96.0\n",
            "Mean BEV torque in Nm: 232.17\n",
            "Mean BEV Battery Capacity in kWh: 44.7\n",
            "[[51.31330507]]\n",
            "The standard Torque is : 67.62 in Nm\n",
            "0.41163257437323103\n",
            "[[ 0.14313125  0.65784239  0.76295941]\n",
            " [-1.93227192 -2.10745916 -1.87712236]\n",
            " [-0.32204532 -0.28755985 -0.32698261]\n",
            " [ 1.28818128  0.42149183 -0.32698261]\n",
            " [ 0.14313125  0.65784239  0.64185474]\n",
            " [ 0.67987345  0.65784239  1.12627342]]\n"
          ]
        },
        {
          "output_type": "stream",
          "name": "stderr",
          "text": [
            "/usr/local/lib/python3.10/dist-packages/sklearn/base.py:439: UserWarning: X does not have valid feature names, but LinearRegression was fitted with feature names\n",
            "  warnings.warn(\n"
          ]
        }
      ],
      "source": [
        "#small platform analysis\n",
        "dict = {\"vehicles\": [\"Peugeot108\",\"Peugeote208\",\"CitroenC1\",\"CitroenC2\",\"eCitroenC3\",\"Fiat500e\",\"Abarth 500e\",\"eCorsa\",\"JeepEAvenger\",\"LanciaYpsilon\"], \"PWT\":[\"thermal\",\"BEV\",\"thermal\",\"thermal\",\"BEV\",\"BEV\",\"BEV\",\"BEV\",\"BEV\",\"thermal\"], \"PowerkW\":[53, 100, 53, 51, 42, 87, 132, 100, 115, 55], \"TorqueNm\":[93, 260, 93, 150, 143, 220, 250, 260, 260, 126], \"BatteryNomCapkWh\":[0, 51, 0, 0, 29.2, 42, 42, 50, 54, 0]}\n",
        "import numpy as num\n",
        "import pandas as pd\n",
        "from sklearn import linear_model\n",
        "from sklearn.preprocessing import StandardScaler\n",
        "scale = StandardScaler()\n",
        "\n",
        "data=pd.DataFrame(dict)\n",
        "print(data)\n",
        "bevVeh=data[data.PWT==\"BEV\"]\n",
        "print()\n",
        "print(bevVeh)\n",
        "print()\n",
        "meanBEVPower=num.mean(bevVeh['PowerkW'])\n",
        "print(\"Mean BEV power in kW:\", round(meanBEVPower,2))\n",
        "meanBEVTorque=num.mean(bevVeh['TorqueNm'])\n",
        "print(\"Mean BEV torque in Nm:\", round(meanBEVTorque,2))\n",
        "meanBEVBatteryCapacity=num.mean(bevVeh['BatteryNomCapkWh'])\n",
        "print(\"Mean BEV Battery Capacity in kWh:\", round(meanBEVBatteryCapacity,2))\n",
        "\n",
        "regr = linear_model.LinearRegression()\n",
        "pwt=data[['PowerkW','TorqueNm']]\n",
        "bat=data[['BatteryNomCapkWh']]\n",
        "regr.fit(pwt,bat)\n",
        "predBat=regr.predict([[100,260]])\n",
        "print(predBat)\n",
        "\n",
        "standardBEVTorque = num.std(bevVeh['TorqueNm'])\n",
        "print(\"The standard Torque is :\", round(standardTorque,2), \"in Nm\")\n",
        "standardizedTorque = (data.iloc[1,3]-meanBEVTorque)/standardTorque\n",
        "print(standardizedTorque)\n",
        "scaledBev=scale.fit_transform(bevVeh[['PowerkW','TorqueNm','BatteryNomCapkWh']])\n",
        "print(scaledBev)"
      ]
    }
  ]
}